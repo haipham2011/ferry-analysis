{
 "cells": [
  {
   "cell_type": "code",
   "execution_count": 2,
   "metadata": {},
   "outputs": [
    {
     "name": "stdout",
     "output_type": "stream",
     "text": [
      "id               int64\n",
      "updated         object\n",
      "ship            object\n",
      "imo              int64\n",
      "lat            float64\n",
      "long           float64\n",
      "sog            float64\n",
      "cog              int64\n",
      "hdg              int64\n",
      "depPort         object\n",
      "etdSchedule     object\n",
      "etd             object\n",
      "atd             object\n",
      "arrPort         object\n",
      "etaSchedule     object\n",
      "eta             object\n",
      "ata             object\n",
      "dtype: object\n"
     ]
    }
   ],
   "source": [
    "import pandas as pd\n",
    "\n",
    "# Read the CSV file\n",
    "df = pd.read_csv('sample_data/finestapi_tracking_db.csv')\n",
    "\n",
    "# Print schema of dataframe\n",
    "\n",
    "# id: database table row identifier\n",
    "# updated: update time of the row in question\n",
    "# ship: name of the ship\n",
    "# imo: IMO number of the ship\n",
    "# lat: latitude (dd.dddd)\n",
    "# long: longitude (ddd.dddd)\n",
    "# sog: Speed Over Ground\n",
    "# cog: Course Over Ground\n",
    "# hdg: Heading\n",
    "# depPort: UNLOCODE of the port of departure: EETLL or FIHEL\n",
    "# etdSchedule: scheduled departure time given by the shipping company\n",
    "# etd: departure time estimated by FinEstAPI\n",
    "# atd: actual departure time of the ship\n",
    "# arrPort: UNLOCODE of the port of arrival: EETLL or FIHEL\n",
    "# etaSchedule: scheduled arrival time\n",
    "# eta: estimated arrival time\n",
    "# ata: actual arrival time\n",
    "\n",
    "schema = df.dtypes\n",
    "print(schema)"
   ]
  },
  {
   "attachments": {},
   "cell_type": "markdown",
   "metadata": {},
   "source": [
    "1. Data cleaning:\n",
    "+ Ensure consistent ship name (some names are capitalized)\n",
    "+ Drop rows with missing fields.\n",
    "+ Ensure consistent date format across all columns."
   ]
  },
  {
   "cell_type": "code",
   "execution_count": 3,
   "metadata": {},
   "outputs": [
    {
     "name": "stdout",
     "output_type": "stream",
     "text": [
      "            id           updated       ship      imo      lat     long  sog  \\\n",
      "238       4374  05/04/2018 21:24   megastar  9773064  59.4452  24.7717  3.9   \n",
      "243       4379  05/04/2018 21:27       star  9364722  60.1477  24.9149  3.2   \n",
      "495       4631  06/04/2018 06:27   megastar  9773064  60.1478  24.9146  0.5   \n",
      "497       4633  06/04/2018 06:28       star  9364722  59.4444  24.7705  0.7   \n",
      "722       4859  06/04/2018 09:27   megastar  9773064  59.4451  24.7713  2.9   \n",
      "...        ...               ...        ...      ...      ...      ...  ...   \n",
      "823216  911728  14/03/2019 22:26   megastar  9773064  59.4453  24.7717  3.3   \n",
      "823220  911732  14/03/2019 22:28       star  9364722  60.1481  24.9150  0.9   \n",
      "823458  911970  15/03/2019 06:08  finlandia  9214379  60.1487  24.9112  1.3   \n",
      "823652  912164  15/03/2019 07:26       star  9364722  59.4451  24.7715  2.5   \n",
      "823659  912171  15/03/2019 07:29   megastar  9773064  60.1478  24.9146  1.1   \n",
      "\n",
      "        cog  hdg depPort         etdSchedule                 etd  \\\n",
      "238     209  201   FIHEL 2018-04-05 19:30:00 2018-04-07 15:29:00   \n",
      "243      28  205   EETLL 2018-04-05 19:30:00 2018-04-07 15:25:00   \n",
      "495       3  208   EETLL 2018-04-06 04:30:00 2018-04-06 04:30:00   \n",
      "497     215  207   FIHEL 2018-04-06 04:30:00 2018-04-06 04:30:00   \n",
      "722     209  209   FIHEL 2018-04-06 07:30:00 2018-04-06 07:30:00   \n",
      "...     ...  ...     ...                 ...                 ...   \n",
      "823216  214  211   FIHEL 2019-03-14 20:30:00 2019-03-14 20:30:00   \n",
      "823220  341  211   EETLL 2019-03-14 20:30:00 2019-03-14 20:30:00   \n",
      "823458   35  210   EETLL 2019-03-15 04:00:00 2019-03-15 04:00:00   \n",
      "823652  222  208   FIHEL 2019-03-15 05:30:00 2019-03-15 05:30:00   \n",
      "823659   24  208   EETLL 2019-03-15 05:30:00 2019-03-15 05:30:00   \n",
      "\n",
      "                       atd arrPort         etaSchedule                 eta  \\\n",
      "238    2018-04-05 19:18:20   EETLL 2018-04-05 21:30:00 2018-04-05 21:24:00   \n",
      "243    2018-04-05 19:21:17   FIHEL 2018-04-05 21:30:00 2018-04-05 21:27:00   \n",
      "495    2018-04-06 04:18:17   FIHEL 2018-04-06 06:30:00 2018-04-06 06:25:00   \n",
      "497    2018-04-06 04:20:18   EETLL 2018-04-06 06:30:00 2018-04-06 06:25:00   \n",
      "722    2018-04-06 06:30:14   EETLL 2018-04-06 09:30:00 2018-04-06 09:25:00   \n",
      "...                    ...     ...                 ...                 ...   \n",
      "823216 2019-03-14 20:18:13   EETLL 2019-03-14 22:30:00 2019-03-14 22:27:00   \n",
      "823220 2019-03-14 20:20:14   FIHEL 2019-03-14 22:30:00 2019-03-14 22:27:00   \n",
      "823458 2019-03-15 03:51:06   FIHEL 2019-03-15 06:15:00 2019-03-15 06:08:00   \n",
      "823652 2019-03-15 05:18:10   EETLL 2019-03-15 07:30:00 2019-03-15 07:26:00   \n",
      "823659 2019-03-15 05:19:04   FIHEL 2019-03-15 07:30:00 2019-03-15 07:28:00   \n",
      "\n",
      "                       ata  \n",
      "238    2018-04-05 21:24:41  \n",
      "243    2018-04-05 21:27:59  \n",
      "495    2018-04-06 06:27:09  \n",
      "497    2018-04-06 06:28:16  \n",
      "722    2018-04-06 09:27:08  \n",
      "...                    ...  \n",
      "823216 2019-03-14 22:26:05  \n",
      "823220 2019-03-14 22:28:05  \n",
      "823458 2019-03-15 06:08:11  \n",
      "823652 2019-03-15 07:26:15  \n",
      "823659 2019-03-15 07:29:11  \n",
      "\n",
      "[6402 rows x 17 columns]\n",
      "6402\n"
     ]
    }
   ],
   "source": [
    "# Ensure consistent ship name (some names are capitalized)\n",
    "df['ship'] = df['ship'].str.lower()\n",
    "\n",
    "# Drop rows with missing fields\n",
    "df = df.dropna()\n",
    "\n",
    "# Ensure consistent date format across all columns\n",
    "# Convert all date columns to a consistent format with hour, minute, and second\n",
    "date_columns = ['etdSchedule', 'etd', 'atd', 'etaSchedule', 'eta', 'ata']  # Replace with the actual column names\n",
    "date_format = '%d/%m/%Y %H:%M:%S' # Replace with the desired date format\n",
    "\n",
    "df[date_columns] = df[date_columns].apply(lambda col: \n",
    "                                          pd.to_datetime(col, format='mixed', dayfirst=True))\n",
    "\n",
    "# Print the DataFrame with consistent date format\n",
    "print(df)\n",
    "num_rows = df.shape[0]\n",
    "print(num_rows)"
   ]
  },
  {
   "cell_type": "code",
   "execution_count": null,
   "metadata": {},
   "outputs": [],
   "source": []
  }
 ],
 "metadata": {
  "kernelspec": {
   "display_name": ".venv",
   "language": "python",
   "name": "python3"
  },
  "language_info": {
   "codemirror_mode": {
    "name": "ipython",
    "version": 3
   },
   "file_extension": ".py",
   "mimetype": "text/x-python",
   "name": "python",
   "nbconvert_exporter": "python",
   "pygments_lexer": "ipython3",
   "version": "3.11.3"
  },
  "orig_nbformat": 4
 },
 "nbformat": 4,
 "nbformat_minor": 2
}
